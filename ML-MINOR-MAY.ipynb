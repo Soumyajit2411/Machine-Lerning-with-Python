{
 "cells": [
  {
   "cell_type": "markdown",
   "metadata": {
    "colab_type": "text",
    "id": "nMLfK1ZkJV8o"
   },
   "source": [
    "# Dataset\n",
    "Red Wine Quality Dataset from kaggle-\n",
    "https://www.kaggle.com/uciml/red-wine-quality-cortez-et-al-2009"
   ]
  },
  {
   "cell_type": "code",
   "execution_count": 1,
   "metadata": {
    "colab": {
     "base_uri": "https://localhost:8080/",
     "height": 70
    },
    "colab_type": "code",
    "executionInfo": {
     "elapsed": 2399,
     "status": "ok",
     "timestamp": 1593491162432,
     "user": {
      "displayName": "SOUMYAJIT ROY",
      "photoUrl": "",
      "userId": "04273593953313780787"
     },
     "user_tz": -330
    },
    "id": "r4GNszsrL8yR",
    "outputId": "0b92af09-4d3a-4277-9bf1-f48e3613cde7"
   },
   "outputs": [],
   "source": [
    "#Importing required packages.\n",
    "import numpy as np\n",
    "import pandas as pd\n",
    "import matplotlib.pyplot as plt\n",
    "import seaborn as sns\n",
    "%matplotlib inline"
   ]
  },
  {
   "cell_type": "markdown",
   "metadata": {
    "colab_type": "text",
    "id": "Mv0eGw_GLDvk"
   },
   "source": [
    "# Instructions:-\n",
    "1. Import the dataset."
   ]
  },
  {
   "cell_type": "code",
   "execution_count": 2,
   "metadata": {
    "colab": {
     "base_uri": "https://localhost:8080/",
     "height": 195
    },
    "colab_type": "code",
    "executionInfo": {
     "elapsed": 2495,
     "status": "ok",
     "timestamp": 1593491168572,
     "user": {
      "displayName": "SOUMYAJIT ROY",
      "photoUrl": "",
      "userId": "04273593953313780787"
     },
     "user_tz": -330
    },
    "id": "njEs6TBYMbMc",
    "outputId": "1c5a0dfb-9863-48bb-f9ab-fdeac64c982e"
   },
   "outputs": [],
   "source": [
    "#Loading dataset\n",
    "df = pd.read_csv('datasets_4458_8204_winequality-red.csv')"
   ]
  },
  {
   "cell_type": "code",
   "execution_count": 3,
   "metadata": {},
   "outputs": [
    {
     "data": {
      "text/html": [
       "<div>\n",
       "<style scoped>\n",
       "    .dataframe tbody tr th:only-of-type {\n",
       "        vertical-align: middle;\n",
       "    }\n",
       "\n",
       "    .dataframe tbody tr th {\n",
       "        vertical-align: top;\n",
       "    }\n",
       "\n",
       "    .dataframe thead th {\n",
       "        text-align: right;\n",
       "    }\n",
       "</style>\n",
       "<table border=\"1\" class=\"dataframe\">\n",
       "  <thead>\n",
       "    <tr style=\"text-align: right;\">\n",
       "      <th></th>\n",
       "      <th>fixed acidity</th>\n",
       "      <th>volatile acidity</th>\n",
       "      <th>citric acid</th>\n",
       "      <th>residual sugar</th>\n",
       "      <th>chlorides</th>\n",
       "      <th>free sulfur dioxide</th>\n",
       "      <th>total sulfur dioxide</th>\n",
       "      <th>density</th>\n",
       "      <th>pH</th>\n",
       "      <th>sulphates</th>\n",
       "      <th>alcohol</th>\n",
       "      <th>quality</th>\n",
       "    </tr>\n",
       "  </thead>\n",
       "  <tbody>\n",
       "    <tr>\n",
       "      <th>0</th>\n",
       "      <td>7.4</td>\n",
       "      <td>0.70</td>\n",
       "      <td>0.00</td>\n",
       "      <td>1.9</td>\n",
       "      <td>0.076</td>\n",
       "      <td>11.0</td>\n",
       "      <td>34.0</td>\n",
       "      <td>0.9978</td>\n",
       "      <td>3.51</td>\n",
       "      <td>0.56</td>\n",
       "      <td>9.4</td>\n",
       "      <td>5</td>\n",
       "    </tr>\n",
       "    <tr>\n",
       "      <th>1</th>\n",
       "      <td>7.8</td>\n",
       "      <td>0.88</td>\n",
       "      <td>0.00</td>\n",
       "      <td>2.6</td>\n",
       "      <td>0.098</td>\n",
       "      <td>25.0</td>\n",
       "      <td>67.0</td>\n",
       "      <td>0.9968</td>\n",
       "      <td>3.20</td>\n",
       "      <td>0.68</td>\n",
       "      <td>9.8</td>\n",
       "      <td>5</td>\n",
       "    </tr>\n",
       "    <tr>\n",
       "      <th>2</th>\n",
       "      <td>7.8</td>\n",
       "      <td>0.76</td>\n",
       "      <td>0.04</td>\n",
       "      <td>2.3</td>\n",
       "      <td>0.092</td>\n",
       "      <td>15.0</td>\n",
       "      <td>54.0</td>\n",
       "      <td>0.9970</td>\n",
       "      <td>3.26</td>\n",
       "      <td>0.65</td>\n",
       "      <td>9.8</td>\n",
       "      <td>5</td>\n",
       "    </tr>\n",
       "    <tr>\n",
       "      <th>3</th>\n",
       "      <td>11.2</td>\n",
       "      <td>0.28</td>\n",
       "      <td>0.56</td>\n",
       "      <td>1.9</td>\n",
       "      <td>0.075</td>\n",
       "      <td>17.0</td>\n",
       "      <td>60.0</td>\n",
       "      <td>0.9980</td>\n",
       "      <td>3.16</td>\n",
       "      <td>0.58</td>\n",
       "      <td>9.8</td>\n",
       "      <td>6</td>\n",
       "    </tr>\n",
       "    <tr>\n",
       "      <th>4</th>\n",
       "      <td>7.4</td>\n",
       "      <td>0.70</td>\n",
       "      <td>0.00</td>\n",
       "      <td>1.9</td>\n",
       "      <td>0.076</td>\n",
       "      <td>11.0</td>\n",
       "      <td>34.0</td>\n",
       "      <td>0.9978</td>\n",
       "      <td>3.51</td>\n",
       "      <td>0.56</td>\n",
       "      <td>9.4</td>\n",
       "      <td>5</td>\n",
       "    </tr>\n",
       "  </tbody>\n",
       "</table>\n",
       "</div>"
      ],
      "text/plain": [
       "   fixed acidity  volatile acidity  citric acid  residual sugar  chlorides  \\\n",
       "0            7.4              0.70         0.00             1.9      0.076   \n",
       "1            7.8              0.88         0.00             2.6      0.098   \n",
       "2            7.8              0.76         0.04             2.3      0.092   \n",
       "3           11.2              0.28         0.56             1.9      0.075   \n",
       "4            7.4              0.70         0.00             1.9      0.076   \n",
       "\n",
       "   free sulfur dioxide  total sulfur dioxide  density    pH  sulphates  \\\n",
       "0                 11.0                  34.0   0.9978  3.51       0.56   \n",
       "1                 25.0                  67.0   0.9968  3.20       0.68   \n",
       "2                 15.0                  54.0   0.9970  3.26       0.65   \n",
       "3                 17.0                  60.0   0.9980  3.16       0.58   \n",
       "4                 11.0                  34.0   0.9978  3.51       0.56   \n",
       "\n",
       "   alcohol  quality  \n",
       "0      9.4        5  \n",
       "1      9.8        5  \n",
       "2      9.8        5  \n",
       "3      9.8        6  \n",
       "4      9.4        5  "
      ]
     },
     "execution_count": 3,
     "metadata": {},
     "output_type": "execute_result"
    }
   ],
   "source": [
    "#Let's check how the data is distributed\n",
    "df.head()"
   ]
  },
  {
   "cell_type": "code",
   "execution_count": 4,
   "metadata": {
    "colab": {},
    "colab_type": "code",
    "executionInfo": {
     "elapsed": 2273,
     "status": "ok",
     "timestamp": 1593491171589,
     "user": {
      "displayName": "SOUMYAJIT ROY",
      "photoUrl": "",
      "userId": "04273593953313780787"
     },
     "user_tz": -330
    },
    "id": "KbEjX5_NT9pV"
   },
   "outputs": [],
   "source": [
    "#df.tail()"
   ]
  },
  {
   "cell_type": "code",
   "execution_count": 5,
   "metadata": {
    "colab": {},
    "colab_type": "code",
    "executionInfo": {
     "elapsed": 1175,
     "status": "ok",
     "timestamp": 1593491176096,
     "user": {
      "displayName": "SOUMYAJIT ROY",
      "photoUrl": "",
      "userId": "04273593953313780787"
     },
     "user_tz": -330
    },
    "id": "c6Yh2XdNMtmY"
   },
   "outputs": [],
   "source": [
    "#df.describe()"
   ]
  },
  {
   "cell_type": "code",
   "execution_count": 6,
   "metadata": {
    "colab": {},
    "colab_type": "code",
    "executionInfo": {
     "elapsed": 1250,
     "status": "ok",
     "timestamp": 1593491177908,
     "user": {
      "displayName": "SOUMYAJIT ROY",
      "photoUrl": "",
      "userId": "04273593953313780787"
     },
     "user_tz": -330
    },
    "id": "1EYmgzNbjJJ-"
   },
   "outputs": [],
   "source": [
    "#df.shape"
   ]
  },
  {
   "cell_type": "code",
   "execution_count": 7,
   "metadata": {
    "colab": {},
    "colab_type": "code",
    "executionInfo": {
     "elapsed": 763,
     "status": "ok",
     "timestamp": 1593491179402,
     "user": {
      "displayName": "SOUMYAJIT ROY",
      "photoUrl": "",
      "userId": "04273593953313780787"
     },
     "user_tz": -330
    },
    "id": "DPzVm-qlM3iL"
   },
   "outputs": [],
   "source": [
    "#df.columns"
   ]
  },
  {
   "cell_type": "markdown",
   "metadata": {
    "colab_type": "text",
    "id": "QegqMuBILn5m"
   },
   "source": [
    "2. Data quality check: \n",
    "\n",
    "  a. Check if null values are present. If there are, drop those rows."
   ]
  },
  {
   "cell_type": "code",
   "execution_count": 8,
   "metadata": {
    "colab": {
     "base_uri": "https://localhost:8080/",
     "height": 336
    },
    "colab_type": "code",
    "executionInfo": {
     "elapsed": 1117,
     "status": "ok",
     "timestamp": 1593491181762,
     "user": {
      "displayName": "SOUMYAJIT ROY",
      "photoUrl": "",
      "userId": "04273593953313780787"
     },
     "user_tz": -330
    },
    "id": "FP1uy-pIL-PD",
    "outputId": "c3b068c8-abf6-49ab-cc65-82c11349518d"
   },
   "outputs": [
    {
     "name": "stdout",
     "output_type": "stream",
     "text": [
      "<class 'pandas.core.frame.DataFrame'>\n",
      "RangeIndex: 1599 entries, 0 to 1598\n",
      "Data columns (total 12 columns):\n",
      " #   Column                Non-Null Count  Dtype  \n",
      "---  ------                --------------  -----  \n",
      " 0   fixed acidity         1599 non-null   float64\n",
      " 1   volatile acidity      1599 non-null   float64\n",
      " 2   citric acid           1599 non-null   float64\n",
      " 3   residual sugar        1599 non-null   float64\n",
      " 4   chlorides             1599 non-null   float64\n",
      " 5   free sulfur dioxide   1599 non-null   float64\n",
      " 6   total sulfur dioxide  1599 non-null   float64\n",
      " 7   density               1599 non-null   float64\n",
      " 8   pH                    1599 non-null   float64\n",
      " 9   sulphates             1599 non-null   float64\n",
      " 10  alcohol               1599 non-null   float64\n",
      " 11  quality               1599 non-null   int64  \n",
      "dtypes: float64(11), int64(1)\n",
      "memory usage: 150.0 KB\n"
     ]
    }
   ],
   "source": [
    "#Information about the data columns\n",
    "df.info()"
   ]
  },
  {
   "cell_type": "code",
   "execution_count": 9,
   "metadata": {
    "colab": {
     "base_uri": "https://localhost:8080/",
     "height": 235
    },
    "colab_type": "code",
    "executionInfo": {
     "elapsed": 2500,
     "status": "ok",
     "timestamp": 1593491184902,
     "user": {
      "displayName": "SOUMYAJIT ROY",
      "photoUrl": "",
      "userId": "04273593953313780787"
     },
     "user_tz": -330
    },
    "id": "t3XEXR0XVDS4",
    "outputId": "563af143-4626-4ba3-df4c-27369d3156f8"
   },
   "outputs": [
    {
     "data": {
      "text/plain": [
       "fixed acidity           0\n",
       "volatile acidity        0\n",
       "citric acid             0\n",
       "residual sugar          0\n",
       "chlorides               0\n",
       "free sulfur dioxide     0\n",
       "total sulfur dioxide    0\n",
       "density                 0\n",
       "pH                      0\n",
       "sulphates               0\n",
       "alcohol                 0\n",
       "quality                 0\n",
       "dtype: int64"
      ]
     },
     "execution_count": 9,
     "metadata": {},
     "output_type": "execute_result"
    }
   ],
   "source": [
    "#Checking Null values on the dataset\n",
    "df.isnull().sum()"
   ]
  },
  {
   "cell_type": "markdown",
   "metadata": {
    "colab_type": "text",
    "id": "m8GnaiCNMKfQ"
   },
   "source": [
    "3. Exploratory Data Analysis: \n",
    "\n",
    " a. Univariate Analysis: \n",
    "     \n",
    "  i. Draw a minimum of 5 histograms ."
   ]
  },
  {
   "cell_type": "code",
   "execution_count": 10,
   "metadata": {
    "colab": {
     "base_uri": "https://localhost:8080/",
     "height": 295
    },
    "colab_type": "code",
    "executionInfo": {
     "elapsed": 1408,
     "status": "ok",
     "timestamp": 1593491209578,
     "user": {
      "displayName": "SOUMYAJIT ROY",
      "photoUrl": "",
      "userId": "04273593953313780787"
     },
     "user_tz": -330
    },
    "id": "8cNsPYXzdjxn",
    "outputId": "3dfa238a-f340-4c27-d2c7-db22d3adae5a"
   },
   "outputs": [
    {
     "data": {
      "image/png": "[encoded data removed]",
      "text/plain": [
       "<Figure size 432x288 with 1 Axes>"
      ]
     },
     "metadata": {
      "needs_background": "light"
     },
     "output_type": "display_data"
    }
   ],
   "source": [
    "#Plotting Histograms\n",
    "sns.distplot(df['pH'],kde=False,hist=True,bins=11,hist_kws=dict(edgecolor=\"k\", linewidth=1))\n",
    "plt.title(\"Histogram 1\")\n",
    "plt.ylabel(\"Frequency\")\n",
    "plt.show()"
   ]
  },
  {
   "cell_type": "code",
   "execution_count": 11,
   "metadata": {
    "colab": {
     "base_uri": "https://localhost:8080/",
     "height": 295
    },
    "colab_type": "code",
    "executionInfo": {
     "elapsed": 1496,
     "status": "ok",
     "timestamp": 1593491227397,
     "user": {
      "displayName": "SOUMYAJIT ROY",
      "photoUrl": "",
      "userId": "04273593953313780787"
     },
     "user_tz": -330
    },
    "id": "mTjJiB4Q7PIg",
    "outputId": "c2081507-f0e2-4efa-f506-58bb7c0ec247"
   },
   "outputs": [
    {
     "data": {
      "image/png": "[encoded data removed]",
      "text/plain": [
       "<Figure size 432x288 with 1 Axes>"
      ]
     },
     "metadata": {
      "needs_background": "light"
     },
     "output_type": "display_data"
    }
   ],
   "source": [
    "sns.distplot(df['fixed acidity'],kde=False,hist=True,bins=11,hist_kws=dict(edgecolor=\"k\", linewidth=1))\n",
    "plt.title(\"Histogram 2\")\n",
    "plt.ylabel(\"Frequency\")\n",
    "plt.show()"
   ]
  },
  {
   "cell_type": "code",
   "execution_count": 12,
   "metadata": {
    "colab": {
     "base_uri": "https://localhost:8080/",
     "height": 295
    },
    "colab_type": "code",
    "executionInfo": {
     "elapsed": 1276,
     "status": "ok",
     "timestamp": 1593491237073,
     "user": {
      "displayName": "SOUMYAJIT ROY",
      "photoUrl": "",
      "userId": "04273593953313780787"
     },
     "user_tz": -330
    },
    "id": "i2EgFgLP7O1k",
    "outputId": "fbfe7c71-57c5-47fd-f6b4-422e3ed2d9ae"
   },
   "outputs": [
    {
     "data": {
      "image/png": "[encoded data removed]",
      "text/plain": [
       "<Figure size 432x288 with 1 Axes>"
      ]
     },
     "metadata": {
      "needs_background": "light"
     },
     "output_type": "display_data"
    }
   ],
   "source": [
    "sns.distplot(df['alcohol'],kde=False,hist=True,bins=11,hist_kws=dict(edgecolor=\"k\", linewidth=1))\n",
    "plt.title(\"Histogram 3\")\n",
    "plt.ylabel(\"Frequency\")\n",
    "plt.show()"
   ]
  },
  {
   "cell_type": "code",
   "execution_count": 13,
   "metadata": {
    "colab": {
     "base_uri": "https://localhost:8080/",
     "height": 295
    },
    "colab_type": "code",
    "executionInfo": {
     "elapsed": 1368,
     "status": "ok",
     "timestamp": 1593491251583,
     "user": {
      "displayName": "SOUMYAJIT ROY",
      "photoUrl": "",
      "userId": "04273593953313780787"
     },
     "user_tz": -330
    },
    "id": "ed2E8Zeh7Oie",
    "outputId": "0318de39-455e-46af-9ab4-fbc6e638c9be"
   },
   "outputs": [
    {
     "data": {
      "image/png": "[encoded data removed]",
      "text/plain": [
       "<Figure size 432x288 with 1 Axes>"
      ]
     },
     "metadata": {
      "needs_background": "light"
     },
     "output_type": "display_data"
    }
   ],
   "source": [
    "sns.distplot(df['free sulfur dioxide'],kde=False,hist=True,bins=11,hist_kws=dict(edgecolor=\"k\", linewidth=1))\n",
    "plt.title(\"Histogram 4\")\n",
    "plt.ylabel(\"Frequency\")\n",
    "plt.show()"
   ]
  },
  {
   "cell_type": "code",
   "execution_count": 14,
   "metadata": {
    "colab": {
     "base_uri": "https://localhost:8080/",
     "height": 295
    },
    "colab_type": "code",
    "executionInfo": {
     "elapsed": 1361,
     "status": "ok",
     "timestamp": 1593491263099,
     "user": {
      "displayName": "SOUMYAJIT ROY",
      "photoUrl": "",
      "userId": "04273593953313780787"
     },
     "user_tz": -330
    },
    "id": "wFDNgoCl7Nor",
    "outputId": "054a449b-169b-4921-d88e-fad4497c5c7d"
   },
   "outputs": [
    {
     "data": {
      "image/png": "[encoded data removed]",
      "text/plain": [
       "<Figure size 432x288 with 1 Axes>"
      ]
     },
     "metadata": {
      "needs_background": "light"
     },
     "output_type": "display_data"
    }
   ],
   "source": [
    "sns.distplot(df['density'],kde=False,hist=True,bins=11,hist_kws=dict(edgecolor=\"k\", linewidth=1))\n",
    "plt.title(\"Histogram 5\")\n",
    "plt.ylabel(\"Frequency\")\n",
    "plt.show()"
   ]
  },
  {
   "cell_type": "markdown",
   "metadata": {
    "colab_type": "text",
    "id": "_7vQN2_6MqWX"
   },
   "source": [
    "ii. Draw boxplots for each numerical columns."
   ]
  },
  {
   "cell_type": "code",
   "execution_count": 15,
   "metadata": {
    "colab": {},
    "colab_type": "code",
    "executionInfo": {
     "elapsed": 1279,
     "status": "ok",
     "timestamp": 1593491308346,
     "user": {
      "displayName": "SOUMYAJIT ROY",
      "photoUrl": "",
      "userId": "04273593953313780787"
     },
     "user_tz": -330
    },
    "id": "YU2f8uGZVeaG"
   },
   "outputs": [],
   "source": [
    "# for i in df:\n",
    "#     plt.figure()\n",
    "#     df.boxplot([i])\n",
    "#     plt.show()"
   ]
  },
  {
   "cell_type": "code",
   "execution_count": 16,
   "metadata": {
    "colab": {
     "base_uri": "https://localhost:8080/",
     "height": 268
    },
    "colab_type": "code",
    "executionInfo": {
     "elapsed": 3002,
     "status": "ok",
     "timestamp": 1593491783422,
     "user": {
      "displayName": "SOUMYAJIT ROY",
      "photoUrl": "",
      "userId": "04273593953313780787"
     },
     "user_tz": -330
    },
    "id": "U-vNGub3Upgh",
    "outputId": "e6c2ee23-dd24-4363-ebd1-00a719c1eebc"
   },
   "outputs": [
    {
     "data": {
      "image/png": "[encoded data removed]",
      "text/plain": [
       "<Figure size 432x288 with 1 Axes>"
      ]
     },
     "metadata": {
      "needs_background": "light"
     },
     "output_type": "display_data"
    }
   ],
   "source": [
    "# Plotting Barplots\n",
    "sns.boxplot(y='fixed acidity', data = df)\n",
    "#sns.boxplot('fixed acidity', data = df)\n",
    "plt.title(\"Boxplot 1\")\n",
    "plt.show()"
   ]
  },
  {
   "cell_type": "code",
   "execution_count": 17,
   "metadata": {
    "colab": {
     "base_uri": "https://localhost:8080/",
     "height": 268
    },
    "colab_type": "code",
    "executionInfo": {
     "elapsed": 1275,
     "status": "ok",
     "timestamp": 1593491786268,
     "user": {
      "displayName": "SOUMYAJIT ROY",
      "photoUrl": "",
      "userId": "04273593953313780787"
     },
     "user_tz": -330
    },
    "id": "Ym7d_Z6_YQlm",
    "outputId": "ecb32c78-85b0-4c09-b3bf-2393bc768529"
   },
   "outputs": [
    {
     "data": {
      "image/png": "[encoded data removed]",
      "text/plain": [
       "<Figure size 432x288 with 1 Axes>"
      ]
     },
     "metadata": {
      "needs_background": "light"
     },
     "output_type": "display_data"
    }
   ],
   "source": [
    "sns.boxplot(y='volatile acidity', data = df)\n",
    "#sns.boxplot('volatile acidity', data = df)\n",
    "plt.title(\"Boxplot 2\")\n",
    "plt.show()"
   ]
  },
  {
   "cell_type": "code",
   "execution_count": 18,
   "metadata": {
    "colab": {
     "base_uri": "https://localhost:8080/",
     "height": 268
    },
    "colab_type": "code",
    "executionInfo": {
     "elapsed": 1339,
     "status": "ok",
     "timestamp": 1593491791004,
     "user": {
      "displayName": "SOUMYAJIT ROY",
      "photoUrl": "",
      "userId": "04273593953313780787"
     },
     "user_tz": -330
    },
    "id": "sVERtLsuYlX0",
    "outputId": "968f4212-f68e-4760-ab3e-de97d1c23e1b"
   },
   "outputs": [
    {
     "data": {
      "image/png": "[encoded data removed]",
      "text/plain": [
       "<Figure size 432x288 with 1 Axes>"
      ]
     },
     "metadata": {
      "needs_background": "light"
     },
     "output_type": "display_data"
    }
   ],
   "source": [
    "sns.boxplot(y='citric acid', data = df)\n",
    "#sns.boxplot('citric acid', data = df)\n",
    "plt.title(\"Boxplot 3\")\n",
    "plt.show()"
   ]
  },
  {
   "cell_type": "code",
   "execution_count": 19,
   "metadata": {
    "colab": {
     "base_uri": "https://localhost:8080/",
     "height": 268
    },
    "colab_type": "code",
    "executionInfo": {
     "elapsed": 1576,
     "status": "ok",
     "timestamp": 1593491797156,
     "user": {
      "displayName": "SOUMYAJIT ROY",
      "photoUrl": "",
      "userId": "04273593953313780787"
     },
     "user_tz": -330
    },
    "id": "L5lljXVzYqwL",
    "outputId": "887fde2c-e7e5-4a6d-82d9-3d6cb6d57ee7"
   },
   "outputs": [
    {
     "data": {
      "image/png": "[encoded data removed]",
      "text/plain": [
       "<Figure size 432x288 with 1 Axes>"
      ]
     },
     "metadata": {
      "needs_background": "light"
     },
     "output_type": "display_data"
    }
   ],
   "source": [
    "sns.boxplot(y='residual sugar', data = df)\n",
    "#sns.boxplot('residual sugar', data = df)\n",
    "plt.title(\"Boxplot 4\")\n",
    "plt.show()"
   ]
  },
  {
   "cell_type": "code",
   "execution_count": 20,
   "metadata": {
    "colab": {
     "base_uri": "https://localhost:8080/",
     "height": 268
    },
    "colab_type": "code",
    "executionInfo": {
     "elapsed": 1697,
     "status": "ok",
     "timestamp": 1593491802884,
     "user": {
      "displayName": "SOUMYAJIT ROY",
      "photoUrl": "",
      "userId": "04273593953313780787"
     },
     "user_tz": -330
    },
    "id": "uMa-7vvZYwF7",
    "outputId": "60388bb8-3cb0-4770-f0b5-4647a070212c"
   },
   "outputs": [
    {
     "data": {
      "image/png": "[encoded data removed]",
      "text/plain": [
       "<Figure size 432x288 with 1 Axes>"
      ]
     },
     "metadata": {
      "needs_background": "light"
     },
     "output_type": "display_data"
    }
   ],
   "source": [
    "sns.boxplot(y='chlorides', data = df)\n",
    "#sns.boxplot('chlorides', data = df)\n",
    "plt.title(\"Boxplot 5\")\n",
    "plt.show()"
   ]
  },
  {
   "cell_type": "code",
   "execution_count": 21,
   "metadata": {
    "colab": {
     "base_uri": "https://localhost:8080/",
     "height": 268
    },
    "colab_type": "code",
    "executionInfo": {
     "elapsed": 1383,
     "status": "ok",
     "timestamp": 1593491807828,
     "user": {
      "displayName": "SOUMYAJIT ROY",
      "photoUrl": "",
      "userId": "04273593953313780787"
     },
     "user_tz": -330
    },
    "id": "8bEIgGoAY2bj",
    "outputId": "8780a01c-c22a-4740-bbad-6e0cd9fa5943"
   },
   "outputs": [
    {
     "data": {
      "image/png": "[encoded data removed]",
      "text/plain": [
       "<Figure size 432x288 with 1 Axes>"
      ]
     },
     "metadata": {
      "needs_background": "light"
     },
     "output_type": "display_data"
    }
   ],
   "source": [
    "sns.boxplot(y='free sulfur dioxide', data = df)\n",
    "#sns.boxplot('free sulfur dioxide', data = df)\n",
    "plt.title(\"Boxplot 6\")\n",
    "plt.show()"
   ]
  },
  {
   "cell_type": "code",
   "execution_count": 22,
   "metadata": {
    "colab": {
     "base_uri": "https://localhost:8080/",
     "height": 268
    },
    "colab_type": "code",
    "executionInfo": {
     "elapsed": 2171,
     "status": "ok",
     "timestamp": 1593491813150,
     "user": {
      "displayName": "SOUMYAJIT ROY",
      "photoUrl": "",
      "userId": "04273593953313780787"
     },
     "user_tz": -330
    },
    "id": "Krv3rxvEY8JH",
    "outputId": "b88f5d90-b75d-4806-9e5b-5145e2829e19"
   },
   "outputs": [
    {
     "data": {
      "image/png": "[encoded data removed]",
      "text/plain": [
       "<Figure size 432x288 with 1 Axes>"
      ]
     },
     "metadata": {
      "needs_background": "light"
     },
     "output_type": "display_data"
    }
   ],
   "source": [
    "sns.boxplot(y='total sulfur dioxide', data = df)\n",
    "# sns.boxplot('total sulfur dioxide', data = df)\n",
    "plt.title(\"Boxplot 7\")\n",
    "plt.show()"
   ]
  },
  {
   "cell_type": "code",
   "execution_count": 23,
   "metadata": {
    "colab": {
     "base_uri": "https://localhost:8080/",
     "height": 268
    },
    "colab_type": "code",
    "executionInfo": {
     "elapsed": 1140,
     "status": "ok",
     "timestamp": 1593491819493,
     "user": {
      "displayName": "SOUMYAJIT ROY",
      "photoUrl": "",
      "userId": "04273593953313780787"
     },
     "user_tz": -330
    },
    "id": "CF0Gmn9dZBbT",
    "outputId": "1bd28b6d-2baa-4fd3-c82b-8b6f239ea46c"
   },
   "outputs": [
    {
     "data": {
      "image/png": "[encoded data removed]",
      "text/plain": [
       "<Figure size 432x288 with 1 Axes>"
      ]
     },
     "metadata": {
      "needs_background": "light"
     },
     "output_type": "display_data"
    }
   ],
   "source": [
    "sns.boxplot(y='density', data = df)\n",
    "#sns.boxplot('density', data = df)\n",
    "plt.title(\"Boxplot 8\")\n",
    "plt.show()"
   ]
  },
  {
   "cell_type": "code",
   "execution_count": 24,
   "metadata": {
    "colab": {
     "base_uri": "https://localhost:8080/",
     "height": 268
    },
    "colab_type": "code",
    "executionInfo": {
     "elapsed": 1239,
     "status": "ok",
     "timestamp": 1593491824795,
     "user": {
      "displayName": "SOUMYAJIT ROY",
      "photoUrl": "",
      "userId": "04273593953313780787"
     },
     "user_tz": -330
    },
    "id": "zeQqIW6PZFUw",
    "outputId": "2a3ef298-c7af-42d4-a9da-5ab194ce3526"
   },
   "outputs": [
    {
     "data": {
      "image/png": "[encoded data removed]",
      "text/plain": [
       "<Figure size 432x288 with 1 Axes>"
      ]
     },
     "metadata": {
      "needs_background": "light"
     },
     "output_type": "display_data"
    }
   ],
   "source": [
    "sns.boxplot(y='pH', data = df)\n",
    "#sns.boxplot('pH', data = df)\n",
    "plt.title(\"Boxplot 9\")\n",
    "plt.show()"
   ]
  },
  {
   "cell_type": "code",
   "execution_count": 25,
   "metadata": {
    "colab": {
     "base_uri": "https://localhost:8080/",
     "height": 270
    },
    "colab_type": "code",
    "executionInfo": {
     "elapsed": 1326,
     "status": "ok",
     "timestamp": 1593491834626,
     "user": {
      "displayName": "SOUMYAJIT ROY",
      "photoUrl": "",
      "userId": "04273593953313780787"
     },
     "user_tz": -330
    },
    "id": "Dbyo0vqCZKeA",
    "outputId": "30ad2afe-9cc3-43d9-8cfd-c9e370e040b7"
   },
   "outputs": [
    {
     "data": {
      "image/png": "[encoded data removed]",
      "text/plain": [
       "<Figure size 432x288 with 1 Axes>"
      ]
     },
     "metadata": {
      "needs_background": "light"
     },
     "output_type": "display_data"
    }
   ],
   "source": [
    "sns.boxplot(y='sulphates', data = df)\n",
    "#sns.boxplot('sulphates', data = df)\n",
    "plt.title(\"Boxplot 10\")\n",
    "plt.show()"
   ]
  },
  {
   "cell_type": "code",
   "execution_count": 26,
   "metadata": {
    "colab": {
     "base_uri": "https://localhost:8080/",
     "height": 268
    },
    "colab_type": "code",
    "executionInfo": {
     "elapsed": 1283,
     "status": "ok",
     "timestamp": 1593491839956,
     "user": {
      "displayName": "SOUMYAJIT ROY",
      "photoUrl": "",
      "userId": "04273593953313780787"
     },
     "user_tz": -330
    },
    "id": "sfewCfXHZOib",
    "outputId": "dec3c0e6-268b-4e29-a820-e6e64613ad9b"
   },
   "outputs": [
    {
     "data": {
      "image/png": "[encoded data removed]",
      "text/plain": [
       "<Figure size 432x288 with 1 Axes>"
      ]
     },
     "metadata": {
      "needs_background": "light"
     },
     "output_type": "display_data"
    }
   ],
   "source": [
    "sns.boxplot(y='alcohol', data = df)\n",
    "#sns.boxplot('alcohol', data = df)\n",
    "plt.title(\"Boxplot 11\")\n",
    "plt.show()"
   ]
  },
  {
   "cell_type": "code",
   "execution_count": 27,
   "metadata": {
    "colab": {
     "base_uri": "https://localhost:8080/",
     "height": 268
    },
    "colab_type": "code",
    "executionInfo": {
     "elapsed": 1590,
     "status": "ok",
     "timestamp": 1593491846912,
     "user": {
      "displayName": "SOUMYAJIT ROY",
      "photoUrl": "",
      "userId": "04273593953313780787"
     },
     "user_tz": -330
    },
    "id": "dGXm1W_MZSZQ",
    "outputId": "b731599d-fc05-48f5-a9d4-ab55f6a7f049"
   },
   "outputs": [
    {
     "data": {
      "image/png": "[encoded data removed]",
      "text/plain": [
       "<Figure size 432x288 with 1 Axes>"
      ]
     },
     "metadata": {
      "needs_background": "light"
     },
     "output_type": "display_data"
    }
   ],
   "source": [
    "sns.boxplot(y='quality',data = df)\n",
    "#sns.boxplot('quality',data = df)\n",
    "plt.title(\"Boxplot 12\")\n",
    "plt.show()"
   ]
  },
  {
   "cell_type": "markdown",
   "metadata": {
    "colab_type": "text",
    "id": "8pRbXNmkM9GZ"
   },
   "source": [
    "b. Bivariate analysis: \n",
    "\n",
    " i. Draw a minimum of 5 scatter plots"
   ]
  },
  {
   "cell_type": "code",
   "execution_count": 28,
   "metadata": {
    "colab": {
     "base_uri": "https://localhost:8080/",
     "height": 295
    },
    "colab_type": "code",
    "executionInfo": {
     "elapsed": 1772,
     "status": "ok",
     "timestamp": 1593491452444,
     "user": {
      "displayName": "SOUMYAJIT ROY",
      "photoUrl": "",
      "userId": "04273593953313780787"
     },
     "user_tz": -330
    },
    "id": "CFXunv89dMGu",
    "outputId": "86985d2e-32e6-4236-dc94-59479b92c2f7"
   },
   "outputs": [
    {
     "data": {
      "image/png": "[encoded data removed]",
      "text/plain": [
       "<Figure size 432x288 with 1 Axes>"
      ]
     },
     "metadata": {
      "needs_background": "light"
     },
     "output_type": "display_data"
    }
   ],
   "source": [
    "# Plotting Scatter Plots\n",
    "sns.scatterplot(x='fixed acidity', y='volatile acidity', data=df)\n",
    "plt.title(\"Scatter Plot 1\")\n",
    "plt.show()"
   ]
  },
  {
   "cell_type": "code",
   "execution_count": 29,
   "metadata": {
    "colab": {
     "base_uri": "https://localhost:8080/",
     "height": 295
    },
    "colab_type": "code",
    "executionInfo": {
     "elapsed": 2013,
     "status": "ok",
     "timestamp": 1593491459593,
     "user": {
      "displayName": "SOUMYAJIT ROY",
      "photoUrl": "",
      "userId": "04273593953313780787"
     },
     "user_tz": -330
    },
    "id": "6gAr5BMYGbB-",
    "outputId": "b25af8fa-140b-49f3-f7de-eecb2317c51a"
   },
   "outputs": [
    {
     "data": {
      "image/png": "[encoded data removed]",
      "text/plain": [
       "<Figure size 432x288 with 1 Axes>"
      ]
     },
     "metadata": {
      "needs_background": "light"
     },
     "output_type": "display_data"
    }
   ],
   "source": [
    "sns.scatterplot(x='citric acid', y='residual sugar', data=df)\n",
    "plt.title(\"Scatter Plot 2\")\n",
    "plt.show()"
   ]
  },
  {
   "cell_type": "code",
   "execution_count": 30,
   "metadata": {
    "colab": {
     "base_uri": "https://localhost:8080/",
     "height": 295
    },
    "colab_type": "code",
    "executionInfo": {
     "elapsed": 1615,
     "status": "ok",
     "timestamp": 1593491467256,
     "user": {
      "displayName": "SOUMYAJIT ROY",
      "photoUrl": "",
      "userId": "04273593953313780787"
     },
     "user_tz": -330
    },
    "id": "xpJZVRwTGaJi",
    "outputId": "6408b2ad-bc0d-4de8-fd2b-995be13d18c1"
   },
   "outputs": [
    {
     "data": {
      "image/png": "[encoded data removed]",
      "text/plain": [
       "<Figure size 432x288 with 1 Axes>"
      ]
     },
     "metadata": {
      "needs_background": "light"
     },
     "output_type": "display_data"
    }
   ],
   "source": [
    "sns.scatterplot(x='chlorides', y='free sulfur dioxide', data=df)\n",
    "plt.title(\"Scatter Plot 3\")\n",
    "plt.show()"
   ]
  },
  {
   "cell_type": "code",
   "execution_count": 31,
   "metadata": {
    "colab": {
     "base_uri": "https://localhost:8080/",
     "height": 295
    },
    "colab_type": "code",
    "executionInfo": {
     "elapsed": 1567,
     "status": "ok",
     "timestamp": 1593491474398,
     "user": {
      "displayName": "SOUMYAJIT ROY",
      "photoUrl": "",
      "userId": "04273593953313780787"
     },
     "user_tz": -330
    },
    "id": "e8UmaAfyGaBb",
    "outputId": "0bebc045-7a51-45fc-cc17-ee2216426334"
   },
   "outputs": [
    {
     "data": {
      "image/png": "[encoded data removed]",
      "text/plain": [
       "<Figure size 432x288 with 1 Axes>"
      ]
     },
     "metadata": {
      "needs_background": "light"
     },
     "output_type": "display_data"
    }
   ],
   "source": [
    "sns.scatterplot(x='total sulfur dioxide', y='density', data=df)\n",
    "plt.title(\"Scatter Plot 4\")\n",
    "plt.show()"
   ]
  },
  {
   "cell_type": "code",
   "execution_count": 32,
   "metadata": {
    "colab": {
     "base_uri": "https://localhost:8080/",
     "height": 295
    },
    "colab_type": "code",
    "executionInfo": {
     "elapsed": 1368,
     "status": "ok",
     "timestamp": 1593491481025,
     "user": {
      "displayName": "SOUMYAJIT ROY",
      "photoUrl": "",
      "userId": "04273593953313780787"
     },
     "user_tz": -330
    },
    "id": "p3GwdmjYGZ4R",
    "outputId": "682deaef-57ff-4d0a-cfcc-7283bfd3c114"
   },
   "outputs": [
    {
     "data": {
      "image/png": "[encoded data removed]",
      "text/plain": [
       "<Figure size 432x288 with 1 Axes>"
      ]
     },
     "metadata": {
      "needs_background": "light"
     },
     "output_type": "display_data"
    }
   ],
   "source": [
    "sns.scatterplot(x='pH', y='sulphates', data=df)\n",
    "plt.title(\"Scatter Plot 5\")\n",
    "plt.show()"
   ]
  },
  {
   "cell_type": "code",
   "execution_count": 33,
   "metadata": {
    "colab": {
     "base_uri": "https://localhost:8080/",
     "height": 295
    },
    "colab_type": "code",
    "executionInfo": {
     "elapsed": 1300,
     "status": "ok",
     "timestamp": 1593491487977,
     "user": {
      "displayName": "SOUMYAJIT ROY",
      "photoUrl": "",
      "userId": "04273593953313780787"
     },
     "user_tz": -330
    },
    "id": "pB6MocGkGZkz",
    "outputId": "f16cd9f4-358d-4175-b09b-57b08d62ce0b"
   },
   "outputs": [
    {
     "data": {
      "image/png": "[encoded data removed]",
      "text/plain": [
       "<Figure size 432x288 with 1 Axes>"
      ]
     },
     "metadata": {
      "needs_background": "light"
     },
     "output_type": "display_data"
    }
   ],
   "source": [
    "sns.scatterplot(x='alcohol', y='quality', data=df)\n",
    "plt.title(\"Scatter Plot 6\")\n",
    "plt.show()"
   ]
  },
  {
   "cell_type": "markdown",
   "metadata": {
    "colab_type": "text",
    "id": "aWW9ZUHkOB5X"
   },
   "source": [
    "4. Modelling: \n",
    "\n",
    "  a. Split the dataset using “train-test-split” function."
   ]
  },
  {
   "cell_type": "code",
   "execution_count": 34,
   "metadata": {
    "colab": {},
    "colab_type": "code",
    "id": "lE99dJKSdyC9"
   },
   "outputs": [],
   "source": [
    "# Create arrays for the features and the response variable\n",
    "y = df[\"quality\"].values\n",
    "X = df.drop([\"quality\"],axis=1).values"
   ]
  },
  {
   "cell_type": "code",
   "execution_count": 35,
   "metadata": {},
   "outputs": [],
   "source": [
    "# Train and Test splitting of data \n",
    "from sklearn.model_selection import train_test_split\n",
    "X_train,X_test,y_train,y_test=train_test_split(X,y,test_size=0.1,random_state=38)"
   ]
  },
  {
   "cell_type": "markdown",
   "metadata": {
    "colab_type": "text",
    "id": "bhX1NzyhOMfh"
   },
   "source": [
    "b. Apply KNN classification on “quality” column of the dataset. Select the appropriate features"
   ]
  },
  {
   "cell_type": "code",
   "execution_count": 36,
   "metadata": {
    "colab": {
     "base_uri": "https://localhost:8080/",
     "height": 67
    },
    "colab_type": "code",
    "executionInfo": {
     "elapsed": 7149,
     "status": "ok",
     "timestamp": 1593464472257,
     "user": {
      "displayName": "SOUMYAJIT ROY",
      "photoUrl": "",
      "userId": "04273593953313780787"
     },
     "user_tz": -330
    },
    "id": "npE0cmRHi2WL",
    "outputId": "642a8efb-3541-43cb-f1f4-fb43a3a8e9c1"
   },
   "outputs": [
    {
     "data": {
      "text/plain": [
       "KNeighborsClassifier(algorithm='auto', leaf_size=30, metric='minkowski',\n",
       "                     metric_params=None, n_jobs=None, n_neighbors=20, p=2,\n",
       "                     weights='uniform')"
      ]
     },
     "execution_count": 36,
     "metadata": {},
     "output_type": "execute_result"
    }
   ],
   "source": [
    "# Import KNeighborsClassifier from sklearn.neighbors\n",
    "from sklearn.neighbors import KNeighborsClassifier \n",
    "\n",
    "# Create a k-NN classifier with 7 neighbors: knn\n",
    "knn=KNeighborsClassifier(n_neighbors=20)\n",
    "\n",
    "# Fit the classifier to the data\n",
    "knn.fit(X_train,y_train)"
   ]
  },
  {
   "cell_type": "markdown",
   "metadata": {
    "colab_type": "text",
    "id": "aZgXR60fOUjw"
   },
   "source": [
    "c. Predict on the test set."
   ]
  },
  {
   "cell_type": "code",
   "execution_count": 37,
   "metadata": {
    "colab": {},
    "colab_type": "code",
    "id": "t4c2cFRMlFjn"
   },
   "outputs": [],
   "source": [
    "# Predict the labels for the training data X_test\n",
    "pred = knn.predict(X_test)"
   ]
  },
  {
   "cell_type": "markdown",
   "metadata": {
    "colab_type": "text",
    "id": "gWJ01jZWOcrk"
   },
   "source": [
    "d. Find out the accuracy."
   ]
  },
  {
   "cell_type": "code",
   "execution_count": 38,
   "metadata": {
    "colab": {
     "base_uri": "https://localhost:8080/",
     "height": 34
    },
    "colab_type": "code",
    "executionInfo": {
     "elapsed": 7100,
     "status": "ok",
     "timestamp": 1593464472261,
     "user": {
      "displayName": "SOUMYAJIT ROY",
      "photoUrl": "",
      "userId": "04273593953313780787"
     },
     "user_tz": -330
    },
    "id": "fOVCEauRmezf",
    "outputId": "82fa4e4d-2313-4f31-8ae7-2c7a0f935092"
   },
   "outputs": [
    {
     "data": {
      "text/plain": [
       "0.64375"
      ]
     },
     "execution_count": 38,
     "metadata": {},
     "output_type": "execute_result"
    }
   ],
   "source": [
    "#Compute accuracy on the testing set\n",
    "from sklearn.metrics import accuracy_score\n",
    "accuracy=accuracy_score(y_test,pred)\n",
    "accuracy"
   ]
  },
  {
   "cell_type": "code",
   "execution_count": 39,
   "metadata": {
    "colab": {
     "base_uri": "https://localhost:8080/",
     "height": 34
    },
    "colab_type": "code",
    "executionInfo": {
     "elapsed": 7073,
     "status": "ok",
     "timestamp": 1593464472263,
     "user": {
      "displayName": "SOUMYAJIT ROY",
      "photoUrl": "",
      "userId": "04273593953313780787"
     },
     "user_tz": -330
    },
    "id": "WF1Sq2OHemvF",
    "outputId": "f7262099-c625-497f-c927-a16b717babbd"
   },
   "outputs": [
    {
     "name": "stdout",
     "output_type": "stream",
     "text": [
      "Accuracy :  64.375\n"
     ]
    }
   ],
   "source": [
    "#Displaying the accuracy of the Model\n",
    "print('Accuracy : ',100*accuracy)"
   ]
  },
  {
   "cell_type": "code",
   "execution_count": 40,
   "metadata": {
    "colab": {
     "base_uri": "https://localhost:8080/",
     "height": 118
    },
    "colab_type": "code",
    "executionInfo": {
     "elapsed": 7050,
     "status": "ok",
     "timestamp": 1593464472266,
     "user": {
      "displayName": "SOUMYAJIT ROY",
      "photoUrl": "",
      "userId": "04273593953313780787"
     },
     "user_tz": -330
    },
    "id": "w4xUyrJ50Qk8",
    "outputId": "274dd550-6c0d-40b8-a415-7b0158d4c1b0"
   },
   "outputs": [
    {
     "name": "stdout",
     "output_type": "stream",
     "text": [
      "[[ 0  0  2  0  0  0]\n",
      " [ 0  0  2  1  0  0]\n",
      " [ 0  0 59 17  0  0]\n",
      " [ 0  0 23 40  2  0]\n",
      " [ 0  0  4  5  4  0]\n",
      " [ 0  0  0  1  0  0]]\n"
     ]
    }
   ],
   "source": [
    "# Import classification_report,confusion_matrix from sklearn.metrics\n",
    "from sklearn.metrics import classification_report,confusion_matrix\n",
    "\n",
    "#Confusion matrix for the KNeighborsClassifier \n",
    "print(confusion_matrix(y_test,pred))"
   ]
  },
  {
   "cell_type": "code",
   "execution_count": 41,
   "metadata": {
    "colab": {
     "base_uri": "https://localhost:8080/",
     "height": 289
    },
    "colab_type": "code",
    "executionInfo": {
     "elapsed": 7028,
     "status": "ok",
     "timestamp": 1593464472269,
     "user": {
      "displayName": "SOUMYAJIT ROY",
      "photoUrl": "",
      "userId": "04273593953313780787"
     },
     "user_tz": -330
    },
    "id": "5GnXrk4mQPc7",
    "outputId": "d508af62-35cf-46f6-c50d-994e2ea5fda7"
   },
   "outputs": [
    {
     "name": "stdout",
     "output_type": "stream",
     "text": [
      "              precision    recall  f1-score   support\n",
      "\n",
      "           3       0.00      0.00      0.00         2\n",
      "           4       0.00      0.00      0.00         3\n",
      "           5       0.66      0.78      0.71        76\n",
      "           6       0.62      0.62      0.62        65\n",
      "           7       0.67      0.31      0.42        13\n",
      "           8       0.00      0.00      0.00         1\n",
      "\n",
      "    accuracy                           0.64       160\n",
      "   macro avg       0.32      0.28      0.29       160\n",
      "weighted avg       0.62      0.64      0.62       160\n",
      "\n"
     ]
    },
    {
     "name": "stderr",
     "output_type": "stream",
     "text": [
      "C:\\Users\\KIIT\\anaconda3\\lib\\site-packages\\sklearn\\metrics\\_classification.py:1272: UndefinedMetricWarning: Precision and F-score are ill-defined and being set to 0.0 in labels with no predicted samples. Use `zero_division` parameter to control this behavior.\n",
      "  _warn_prf(average, modifier, msg_start, len(result))\n"
     ]
    }
   ],
   "source": [
    "# Classification report for the KNeighborsClassifier \n",
    "print(classification_report(y_test,pred))"
   ]
  }
 ],
 "metadata": {
  "colab": {
   "authorship_tag": "ABX9TyMlEq2OxTW8Ok9D0HEnEDXw",
   "collapsed_sections": [],
   "name": "ML-MINOR-MAY.ipynb",
   "provenance": []
  },
  "kernelspec": {
   "display_name": "Python 3",
   "language": "python",
   "name": "python3"
  },
  "language_info": {
   "codemirror_mode": {
    "name": "ipython",
    "version": 3
   },
   "file_extension": ".py",
   "mimetype": "text/x-python",
   "name": "python",
   "nbconvert_exporter": "python",
   "pygments_lexer": "ipython3",
   "version": "3.7.6"
  }
 },
 "nbformat": 4,
 "nbformat_minor": 1
}
